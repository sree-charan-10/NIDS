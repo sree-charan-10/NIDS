{
  "cells": [
    {
      "cell_type": "code",
      "execution_count": null,
      "metadata": {
        "colab": {
          "base_uri": "https://localhost:8080/"
        },
        "id": "EI40zws1aDDn",
        "outputId": "c55b11cc-bee7-445c-b417-d4f64cfb84a4"
      },
      "outputs": [
        {
          "output_type": "stream",
          "name": "stdout",
          "text": [
            "Looking in indexes: https://pypi.org/simple, https://us-python.pkg.dev/colab-wheels/public/simple/\n",
            "Requirement already satisfied: kaggle in /usr/local/lib/python3.7/dist-packages (1.5.12)\n",
            "Requirement already satisfied: urllib3 in /usr/local/lib/python3.7/dist-packages (from kaggle) (1.24.3)\n",
            "Requirement already satisfied: six>=1.10 in /usr/local/lib/python3.7/dist-packages (from kaggle) (1.15.0)\n",
            "Requirement already satisfied: requests in /usr/local/lib/python3.7/dist-packages (from kaggle) (2.23.0)\n",
            "Requirement already satisfied: certifi in /usr/local/lib/python3.7/dist-packages (from kaggle) (2022.9.24)\n",
            "Requirement already satisfied: tqdm in /usr/local/lib/python3.7/dist-packages (from kaggle) (4.64.1)\n",
            "Requirement already satisfied: python-slugify in /usr/local/lib/python3.7/dist-packages (from kaggle) (6.1.2)\n",
            "Requirement already satisfied: python-dateutil in /usr/local/lib/python3.7/dist-packages (from kaggle) (2.8.2)\n",
            "Requirement already satisfied: text-unidecode>=1.3 in /usr/local/lib/python3.7/dist-packages (from python-slugify->kaggle) (1.3)\n",
            "Requirement already satisfied: chardet<4,>=3.0.2 in /usr/local/lib/python3.7/dist-packages (from requests->kaggle) (3.0.4)\n",
            "Requirement already satisfied: idna<3,>=2.5 in /usr/local/lib/python3.7/dist-packages (from requests->kaggle) (2.10)\n"
          ]
        }
      ],
      "source": [
        "! pip install kaggle"
      ]
    },
    {
      "cell_type": "code",
      "execution_count": null,
      "metadata": {
        "id": "o6flCgAVa9fc"
      },
      "outputs": [],
      "source": [
        "! mkdir ~/.kaggle\n"
      ]
    },
    {
      "cell_type": "code",
      "execution_count": null,
      "metadata": {
        "id": "5HVtXtJ1bACM"
      },
      "outputs": [],
      "source": [
        "!cp /content/drive/MyDrive/kaggle.json ~/.kaggle/kaggle.json\n"
      ]
    },
    {
      "cell_type": "code",
      "execution_count": null,
      "metadata": {
        "colab": {
          "base_uri": "https://localhost:8080/"
        },
        "id": "XiHuQ6wYbDRX",
        "outputId": "ab3b550a-dac6-4633-9050-85d85117c782"
      },
      "outputs": [
        {
          "output_type": "stream",
          "name": "stdout",
          "text": [
            "Downloading ids-intrusion-csv.zip to /content\n",
            "100% 1.59G/1.60G [00:15<00:00, 154MB/s]\n",
            "100% 1.60G/1.60G [00:15<00:00, 113MB/s]\n"
          ]
        }
      ],
      "source": [
        "! kaggle datasets download solarmainframe/ids-intrusion-csv\n"
      ]
    },
    {
      "cell_type": "code",
      "execution_count": null,
      "metadata": {
        "colab": {
          "base_uri": "https://localhost:8080/"
        },
        "id": "cNpouFcNbYSs",
        "outputId": "0efabe6a-2e39-4511-d8d2-1bda99157b00"
      },
      "outputs": [
        {
          "output_type": "stream",
          "name": "stdout",
          "text": [
            "Archive:  ids-intrusion-csv.zip\n",
            "  inflating: 02-14-2018.csv          \n",
            "  inflating: 02-15-2018.csv          \n",
            "  inflating: 02-16-2018.csv          \n",
            "  inflating: 02-20-2018.csv          \n",
            "  inflating: 02-21-2018.csv          \n",
            "  inflating: 02-22-2018.csv          \n",
            "  inflating: 02-23-2018.csv          \n",
            "  inflating: 02-28-2018.csv          \n",
            "  inflating: 03-01-2018.csv          \n",
            "  inflating: 03-02-2018.csv          \n"
          ]
        }
      ],
      "source": [
        "! unzip ids-intrusion-csv.zip"
      ]
    },
    {
      "cell_type": "code",
      "execution_count": null,
      "metadata": {
        "id": "Mgr2248FcCcK"
      },
      "outputs": [],
      "source": [
        "import pandas as pd\n",
        "import numpy as np\n",
        "import matplotlib.pyplot as plt"
      ]
    },
    {
      "cell_type": "code",
      "execution_count": null,
      "metadata": {
        "id": "uN9nEhmgdfZi",
        "colab": {
          "base_uri": "https://localhost:8080/",
          "height": 404
        },
        "outputId": "060dce18-cb58-4348-b45b-9b6475c67c25"
      },
      "outputs": [
        {
          "output_type": "stream",
          "name": "stdout",
          "text": [
            "Benign            667626\n",
            "FTP-BruteForce    193360\n",
            "SSH-Bruteforce    187589\n",
            "Name: Label, dtype: int64\n"
          ]
        },
        {
          "output_type": "display_data",
          "data": {
            "text/plain": [
              "<Figure size 432x288 with 1 Axes>"
            ],
            "image/png": "[encoded data removed]"
          },
          "metadata": {
            "needs_background": "light"
          }
        }
      ],
      "source": [
        "day1 = pd.read_csv(\"/content/02-14-2018.csv\")\n",
        "day1['Label'].value_counts().plot.bar()\n",
        "print(day1['Label'].value_counts())"
      ]
    },
    {
      "cell_type": "code",
      "execution_count": null,
      "metadata": {
        "id": "vYbdDr2t_JwU",
        "colab": {
          "base_uri": "https://localhost:8080/",
          "height": 453
        },
        "outputId": "9ef8f817-386a-4938-a7aa-9559ca953a4b"
      },
      "outputs": [
        {
          "output_type": "stream",
          "name": "stdout",
          "text": [
            "Benign                   996077\n",
            "DoS attacks-GoldenEye     41508\n",
            "DoS attacks-Slowloris     10990\n",
            "Name: Label, dtype: int64\n"
          ]
        },
        {
          "output_type": "display_data",
          "data": {
            "text/plain": [
              "<Figure size 432x288 with 1 Axes>"
            ],
            "image/png": "[encoded data removed]"
          },
          "metadata": {
            "needs_background": "light"
          }
        }
      ],
      "source": [
        "day2 = pd.read_csv(\"/content/02-15-2018.csv\")\n",
        "day2['Label'].value_counts().plot.bar()\n",
        "print(day2['Label'].value_counts())"
      ]
    },
    {
      "cell_type": "code",
      "execution_count": null,
      "metadata": {
        "id": "j2TJ4D3GJvop",
        "colab": {
          "base_uri": "https://localhost:8080/",
          "height": 528
        },
        "outputId": "b0d1a50f-1655-47a7-e715-3c164672133d"
      },
      "outputs": [
        {
          "output_type": "stream",
          "name": "stderr",
          "text": [
            "/usr/local/lib/python3.7/dist-packages/IPython/core/interactiveshell.py:3326: DtypeWarning: Columns (0,1,3,4,5,6,7,8,9,10,11,12,13,14,15,16,17,18,19,20,21,22,23,24,25,26,27,28,29,30,31,32,33,34,35,36,37,38,39,40,41,42,43,44,45,46,47,48,49,50,51,52,53,54,55,56,57,58,59,60,61,62,63,64,65,66,67,68,69,70,71,72,73,74,75,76,77,78) have mixed types.Specify dtype option on import or set low_memory=False.\n",
            "  exec(code_obj, self.user_global_ns, self.user_ns)\n"
          ]
        },
        {
          "output_type": "stream",
          "name": "stdout",
          "text": [
            "DoS attacks-Hulk            461912\n",
            "Benign                      446772\n",
            "DoS attacks-SlowHTTPTest    139890\n",
            "Label                            1\n",
            "Name: Label, dtype: int64\n"
          ]
        },
        {
          "output_type": "display_data",
          "data": {
            "text/plain": [
              "<Figure size 432x288 with 1 Axes>"
            ],
            "image/png": "[encoded data removed]"
          },
          "metadata": {
            "needs_background": "light"
          }
        }
      ],
      "source": [
        "day3 = pd.read_csv(\"/content/02-16-2018.csv\")\n",
        "\n",
        "day3['Label'].value_counts().plot.bar()\n",
        "print(day3['Label'].value_counts())"
      ]
    },
    {
      "cell_type": "code",
      "source": [
        "day5 = pd.read_csv(\"/content/02-21-2018.csv\")\n",
        "\n",
        "day5['Label'].value_counts().plot.bar()\n",
        "print(day5['Label'].value_counts())"
      ],
      "metadata": {
        "colab": {
          "base_uri": "https://localhost:8080/",
          "height": 439
        },
        "id": "QHEPWDHjGG4h",
        "outputId": "caad9e5c-41a0-4eb6-ae68-60f5d8bbaf69"
      },
      "execution_count": null,
      "outputs": [
        {
          "output_type": "stream",
          "name": "stdout",
          "text": [
            "DDOS attack-HOIC        686012\n",
            "Benign                  360833\n",
            "DDOS attack-LOIC-UDP      1730\n",
            "Name: Label, dtype: int64\n"
          ]
        },
        {
          "output_type": "display_data",
          "data": {
            "text/plain": [
              "<Figure size 432x288 with 1 Axes>"
            ],
            "image/png": "[encoded data removed]"
          },
          "metadata": {
            "needs_background": "light"
          }
        }
      ]
    },
    {
      "cell_type": "code",
      "source": [
        "day6 = pd.read_csv(\"/content/02-22-2018.csv\")\n",
        "\n",
        "\n",
        "day6['Label'].value_counts().plot.bar()\n",
        "print(day6['Label'].value_counts())"
      ],
      "metadata": {
        "colab": {
          "base_uri": "https://localhost:8080/",
          "height": 439
        },
        "id": "Es10qNNJGOAs",
        "outputId": "f81267aa-318c-4f42-8d27-e91ce7b27231"
      },
      "execution_count": null,
      "outputs": [
        {
          "output_type": "stream",
          "name": "stdout",
          "text": [
            "Benign              1048213\n",
            "Brute Force -Web        249\n",
            "Brute Force -XSS         79\n",
            "SQL Injection            34\n",
            "Name: Label, dtype: int64\n"
          ]
        },
        {
          "output_type": "display_data",
          "data": {
            "text/plain": [
              "<Figure size 432x288 with 1 Axes>"
            ],
            "image/png": "[encoded data removed]"
          },
          "metadata": {
            "needs_background": "light"
          }
        }
      ]
    },
    {
      "cell_type": "code",
      "source": [
        "day7 = pd.read_csv(\"/content/02-23-2018.csv\")\n",
        "\n",
        "day7['Label'].value_counts().plot.bar()\n",
        "print(day7['Label'].value_counts())"
      ],
      "metadata": {
        "colab": {
          "base_uri": "https://localhost:8080/",
          "height": 439
        },
        "id": "KwibTxWqGSIu",
        "outputId": "cca81f05-61d8-4a61-f24d-416f9bcd9e45"
      },
      "execution_count": null,
      "outputs": [
        {
          "output_type": "stream",
          "name": "stdout",
          "text": [
            "Benign              1048009\n",
            "Brute Force -Web        362\n",
            "Brute Force -XSS        151\n",
            "SQL Injection            53\n",
            "Name: Label, dtype: int64\n"
          ]
        },
        {
          "output_type": "display_data",
          "data": {
            "text/plain": [
              "<Figure size 432x288 with 1 Axes>"
            ],
            "image/png": "[encoded data removed]"
          },
          "metadata": {
            "needs_background": "light"
          }
        }
      ]
    },
    {
      "cell_type": "code",
      "source": [
        "day8 = pd.read_csv(\"/content/02-28-2018.csv\")\n",
        "\n",
        "day8['Label'].value_counts().plot.bar()\n",
        "print(day8['Label'].value_counts())"
      ],
      "metadata": {
        "colab": {
          "base_uri": "https://localhost:8080/",
          "height": 382
        },
        "id": "2Deqo6h0GV9s",
        "outputId": "73bca93a-6e51-4bdb-e01a-46a5a67a2c75"
      },
      "execution_count": null,
      "outputs": [
        {
          "output_type": "stream",
          "name": "stdout",
          "text": [
            "Benign           544200\n",
            "Infilteration     68871\n",
            "Label                33\n",
            "Name: Label, dtype: int64\n"
          ]
        },
        {
          "output_type": "display_data",
          "data": {
            "text/plain": [
              "<Figure size 432x288 with 1 Axes>"
            ],
            "image/png": "[encoded data removed]"
          },
          "metadata": {
            "needs_background": "light"
          }
        }
      ]
    },
    {
      "cell_type": "code",
      "source": [
        "day9 = pd.read_csv(\"/content/03-01-2018.csv\")\n",
        "\n",
        "day9['Label'].value_counts().plot.bar()\n",
        "print(day9['Label'].value_counts())"
      ],
      "metadata": {
        "colab": {
          "base_uri": "https://localhost:8080/",
          "height": 382
        },
        "id": "7Wbfq3DbGbYR",
        "outputId": "44226c10-f700-4bf4-e3a7-4ffdcebcb264"
      },
      "execution_count": null,
      "outputs": [
        {
          "output_type": "stream",
          "name": "stdout",
          "text": [
            "Benign           238037\n",
            "Infilteration     93063\n",
            "Label                25\n",
            "Name: Label, dtype: int64\n"
          ]
        },
        {
          "output_type": "display_data",
          "data": {
            "text/plain": [
              "<Figure size 432x288 with 1 Axes>"
            ],
            "image/png": "[encoded data removed]"
          },
          "metadata": {
            "needs_background": "light"
          }
        }
      ]
    },
    {
      "cell_type": "code",
      "source": [
        "day10 = pd.read_csv(\"/content/03-02-2018.csv\")\n",
        "\n",
        "day10['Label'].value_counts().plot.bar()\n",
        "print(day10['Label'].value_counts())"
      ],
      "metadata": {
        "colab": {
          "base_uri": "https://localhost:8080/",
          "height": 346
        },
        "id": "Y_KEwjAkGhBX",
        "outputId": "c80d8163-a1b9-4854-995b-eab02d79fd9d"
      },
      "execution_count": null,
      "outputs": [
        {
          "output_type": "stream",
          "name": "stdout",
          "text": [
            "Benign    762384\n",
            "Bot       286191\n",
            "Name: Label, dtype: int64\n"
          ]
        },
        {
          "output_type": "display_data",
          "data": {
            "text/plain": [
              "<Figure size 432x288 with 1 Axes>"
            ],
            "image/png": "[encoded data removed]"
          },
          "metadata": {
            "needs_background": "light"
          }
        }
      ]
    },
    {
      "cell_type": "code",
      "source": [
        "df = pd.read_csv('/content/drive/MyDrive/undersampled_preprocessed_dataset.csv')\n",
        "\n",
        "df['Label'].value_counts().plot.bar()\n",
        "print(df['Label'].value_counts())\n",
        "df.shape"
      ],
      "metadata": {
        "id": "hrRG1njjcXGM",
        "colab": {
          "base_uri": "https://localhost:8080/",
          "height": 578
        },
        "outputId": "7c6606bf-e038-4186-edd0-615c3bcc35b6"
      },
      "execution_count": null,
      "outputs": [
        {
          "output_type": "stream",
          "name": "stdout",
          "text": [
            "Benign                      10990\n",
            "Bot                         10990\n",
            "DoS attacks-GoldenEye       10990\n",
            "DoS attacks-Hulk            10990\n",
            "DoS attacks-SlowHTTPTest    10990\n",
            "DoS attacks-Slowloris       10990\n",
            "FTP-BruteForce              10990\n",
            "Infilteration               10990\n",
            "SSH-Bruteforce              10990\n",
            "Name: Label, dtype: int64\n"
          ]
        },
        {
          "output_type": "execute_result",
          "data": {
            "text/plain": [
              "(98910, 82)"
            ]
          },
          "metadata": {},
          "execution_count": 5
        },
        {
          "output_type": "display_data",
          "data": {
            "text/plain": [
              "<Figure size 432x288 with 1 Axes>"
            ],
            "image/png": "[encoded data removed]"
          },
          "metadata": {
            "needs_background": "light"
          }
        }
      ]
    },
    {
      "cell_type": "code",
      "source": [
        "X = df.drop(['Label'], axis=1)\n",
        "y = df['Label']\n",
        "le = LabelEncoder()"
      ],
      "metadata": {
        "id": "uOqzfrZodDDR"
      },
      "execution_count": null,
      "outputs": []
    },
    {
      "cell_type": "code",
      "source": [
        "from google.colab import drive\n",
        "drive.mount('/content/drive')"
      ],
      "metadata": {
        "colab": {
          "base_uri": "https://localhost:8080/"
        },
        "id": "tjkwc6bvo9BW",
        "outputId": "f8bc67e2-d80a-4715-a6a1-db03feef25cf"
      },
      "execution_count": null,
      "outputs": [
        {
          "output_type": "stream",
          "name": "stdout",
          "text": [
            "Mounted at /content/drive\n"
          ]
        }
      ]
    },
    {
      "cell_type": "code",
      "source": [
        "df.head()"
      ],
      "metadata": {
        "colab": {
          "base_uri": "https://localhost:8080/",
          "height": 438
        },
        "id": "e-B1yOCCeD8X",
        "outputId": "799fc420-1d84-4d71-970c-4d30e798a57f"
      },
      "execution_count": null,
      "outputs": [
        {
          "output_type": "execute_result",
          "data": {
            "text/plain": [
              "   Unnamed: 0  Dst Port  Protocol            Timestamp  Flow Duration  \\\n",
              "0           0        80         6  01/03/2018 08:27:23      115349379   \n",
              "1           1      3389         6  02/03/2018 05:07:53        4465103   \n",
              "2           2      3389         6  28/02/2018 01:33:52       15515205   \n",
              "3           3       443         6  02/03/2018 10:24:12            518   \n",
              "4           4       443         6  01/03/2018 11:27:54         115760   \n",
              "\n",
              "   Tot Fwd Pkts  Tot Bwd Pkts  TotLen Fwd Pkts  TotLen Bwd Pkts  \\\n",
              "0            16            14              443            706.0   \n",
              "1            13             8             1460           1731.0   \n",
              "2             9             8             1148           1581.0   \n",
              "3             3             0               77              0.0   \n",
              "4            10             8              507           4760.0   \n",
              "\n",
              "   Fwd Pkt Len Max  ...  Active Mean   Active Std  Active Max  Active Min  \\\n",
              "0              432  ...  116781.3636  73135.77396    337294.0     94684.0   \n",
              "1              741  ...       0.0000      0.00000         0.0         0.0   \n",
              "2              677  ...  369809.0000      0.00000    369809.0    369809.0   \n",
              "3               46  ...       0.0000      0.00000         0.0         0.0   \n",
              "4              194  ...       0.0000      0.00000         0.0         0.0   \n",
              "\n",
              "      Idle Mean     Idle Std    Idle Max    Idle Min  Unnamed: 0.1   Label  \n",
              "0  9.997771e+06  17409.35678  10000000.0   9947747.0           NaN  Benign  \n",
              "1  0.000000e+00      0.00000         0.0         0.0           NaN  Benign  \n",
              "2  1.186104e+07      0.00000  11861044.0  11861044.0           NaN  Benign  \n",
              "3  0.000000e+00      0.00000         0.0         0.0           NaN  Benign  \n",
              "4  0.000000e+00      0.00000         0.0         0.0           NaN  Benign  \n",
              "\n",
              "[5 rows x 82 columns]"
            ],
            "text/html": [
              "\n",
              "  <div id=\"df-650e6577-8ca4-47cd-9626-c7c044240b9a\">\n",
              "    <div class=\"colab-df-container\">\n",
              "      <div>\n",
              "<style scoped>\n",
              "    .dataframe tbody tr th:only-of-type {\n",
              "        vertical-align: middle;\n",
              "    }\n",
              "\n",
              "    .dataframe tbody tr th {\n",
              "        vertical-align: top;\n",
              "    }\n",
              "\n",
              "    .dataframe thead th {\n",
              "        text-align: right;\n",
              "    }\n",
              "</style>\n",
              "<table border=\"1\" class=\"dataframe\">\n",
              "  <thead>\n",
              "    <tr style=\"text-align: right;\">\n",
              "      <th></th>\n",
              "      <th>Unnamed: 0</th>\n",
              "      <th>Dst Port</th>\n",
              "      <th>Protocol</th>\n",
              "      <th>Timestamp</th>\n",
              "      <th>Flow Duration</th>\n",
              "      <th>Tot Fwd Pkts</th>\n",
              "      <th>Tot Bwd Pkts</th>\n",
              "      <th>TotLen Fwd Pkts</th>\n",
              "      <th>TotLen Bwd Pkts</th>\n",
              "      <th>Fwd Pkt Len Max</th>\n",
              "      <th>...</th>\n",
              "      <th>Active Mean</th>\n",
              "      <th>Active Std</th>\n",
              "      <th>Active Max</th>\n",
              "      <th>Active Min</th>\n",
              "      <th>Idle Mean</th>\n",
              "      <th>Idle Std</th>\n",
              "      <th>Idle Max</th>\n",
              "      <th>Idle Min</th>\n",
              "      <th>Unnamed: 0.1</th>\n",
              "      <th>Label</th>\n",
              "    </tr>\n",
              "  </thead>\n",
              "  <tbody>\n",
              "    <tr>\n",
              "      <th>0</th>\n",
              "      <td>0</td>\n",
              "      <td>80</td>\n",
              "      <td>6</td>\n",
              "      <td>01/03/2018 08:27:23</td>\n",
              "      <td>115349379</td>\n",
              "      <td>16</td>\n",
              "      <td>14</td>\n",
              "      <td>443</td>\n",
              "      <td>706.0</td>\n",
              "      <td>432</td>\n",
              "      <td>...</td>\n",
              "      <td>116781.3636</td>\n",
              "      <td>73135.77396</td>\n",
              "      <td>337294.0</td>\n",
              "      <td>94684.0</td>\n",
              "      <td>9.997771e+06</td>\n",
              "      <td>17409.35678</td>\n",
              "      <td>10000000.0</td>\n",
              "      <td>9947747.0</td>\n",
              "      <td>NaN</td>\n",
              "      <td>Benign</td>\n",
              "    </tr>\n",
              "    <tr>\n",
              "      <th>1</th>\n",
              "      <td>1</td>\n",
              "      <td>3389</td>\n",
              "      <td>6</td>\n",
              "      <td>02/03/2018 05:07:53</td>\n",
              "      <td>4465103</td>\n",
              "      <td>13</td>\n",
              "      <td>8</td>\n",
              "      <td>1460</td>\n",
              "      <td>1731.0</td>\n",
              "      <td>741</td>\n",
              "      <td>...</td>\n",
              "      <td>0.0000</td>\n",
              "      <td>0.00000</td>\n",
              "      <td>0.0</td>\n",
              "      <td>0.0</td>\n",
              "      <td>0.000000e+00</td>\n",
              "      <td>0.00000</td>\n",
              "      <td>0.0</td>\n",
              "      <td>0.0</td>\n",
              "      <td>NaN</td>\n",
              "      <td>Benign</td>\n",
              "    </tr>\n",
              "    <tr>\n",
              "      <th>2</th>\n",
              "      <td>2</td>\n",
              "      <td>3389</td>\n",
              "      <td>6</td>\n",
              "      <td>28/02/2018 01:33:52</td>\n",
              "      <td>15515205</td>\n",
              "      <td>9</td>\n",
              "      <td>8</td>\n",
              "      <td>1148</td>\n",
              "      <td>1581.0</td>\n",
              "      <td>677</td>\n",
              "      <td>...</td>\n",
              "      <td>369809.0000</td>\n",
              "      <td>0.00000</td>\n",
              "      <td>369809.0</td>\n",
              "      <td>369809.0</td>\n",
              "      <td>1.186104e+07</td>\n",
              "      <td>0.00000</td>\n",
              "      <td>11861044.0</td>\n",
              "      <td>11861044.0</td>\n",
              "      <td>NaN</td>\n",
              "      <td>Benign</td>\n",
              "    </tr>\n",
              "    <tr>\n",
              "      <th>3</th>\n",
              "      <td>3</td>\n",
              "      <td>443</td>\n",
              "      <td>6</td>\n",
              "      <td>02/03/2018 10:24:12</td>\n",
              "      <td>518</td>\n",
              "      <td>3</td>\n",
              "      <td>0</td>\n",
              "      <td>77</td>\n",
              "      <td>0.0</td>\n",
              "      <td>46</td>\n",
              "      <td>...</td>\n",
              "      <td>0.0000</td>\n",
              "      <td>0.00000</td>\n",
              "      <td>0.0</td>\n",
              "      <td>0.0</td>\n",
              "      <td>0.000000e+00</td>\n",
              "      <td>0.00000</td>\n",
              "      <td>0.0</td>\n",
              "      <td>0.0</td>\n",
              "      <td>NaN</td>\n",
              "      <td>Benign</td>\n",
              "    </tr>\n",
              "    <tr>\n",
              "      <th>4</th>\n",
              "      <td>4</td>\n",
              "      <td>443</td>\n",
              "      <td>6</td>\n",
              "      <td>01/03/2018 11:27:54</td>\n",
              "      <td>115760</td>\n",
              "      <td>10</td>\n",
              "      <td>8</td>\n",
              "      <td>507</td>\n",
              "      <td>4760.0</td>\n",
              "      <td>194</td>\n",
              "      <td>...</td>\n",
              "      <td>0.0000</td>\n",
              "      <td>0.00000</td>\n",
              "      <td>0.0</td>\n",
              "      <td>0.0</td>\n",
              "      <td>0.000000e+00</td>\n",
              "      <td>0.00000</td>\n",
              "      <td>0.0</td>\n",
              "      <td>0.0</td>\n",
              "      <td>NaN</td>\n",
              "      <td>Benign</td>\n",
              "    </tr>\n",
              "  </tbody>\n",
              "</table>\n",
              "<p>5 rows × 82 columns</p>\n",
              "</div>\n",
              "      <button class=\"colab-df-convert\" onclick=\"convertToInteractive('df-650e6577-8ca4-47cd-9626-c7c044240b9a')\"\n",
              "              title=\"Convert this dataframe to an interactive table.\"\n",
              "              style=\"display:none;\">\n",
              "        \n",
              "  <svg xmlns=\"http://www.w3.org/2000/svg\" height=\"24px\"viewBox=\"0 0 24 24\"\n",
              "       width=\"24px\">\n",
              "    <path d=\"M0 0h24v24H0V0z\" fill=\"none\"/>\n",
              "    <path d=\"M18.56 5.44l.94 2.06.94-2.06 2.06-.94-2.06-.94-.94-2.06-.94 2.06-2.06.94zm-11 1L8.5 8.5l.94-2.06 2.06-.94-2.06-.94L8.5 2.5l-.94 2.06-2.06.94zm10 10l.94 2.06.94-2.06 2.06-.94-2.06-.94-.94-2.06-.94 2.06-2.06.94z\"/><path d=\"M17.41 7.96l-1.37-1.37c-.4-.4-.92-.59-1.43-.59-.52 0-1.04.2-1.43.59L10.3 9.45l-7.72 7.72c-.78.78-.78 2.05 0 2.83L4 21.41c.39.39.9.59 1.41.59.51 0 1.02-.2 1.41-.59l7.78-7.78 2.81-2.81c.8-.78.8-2.07 0-2.86zM5.41 20L4 18.59l7.72-7.72 1.47 1.35L5.41 20z\"/>\n",
              "  </svg>\n",
              "      </button>\n",
              "      \n",
              "  <style>\n",
              "    .colab-df-container {\n",
              "      display:flex;\n",
              "      flex-wrap:wrap;\n",
              "      gap: 12px;\n",
              "    }\n",
              "\n",
              "    .colab-df-convert {\n",
              "      background-color: #E8F0FE;\n",
              "      border: none;\n",
              "      border-radius: 50%;\n",
              "      cursor: pointer;\n",
              "      display: none;\n",
              "      fill: #1967D2;\n",
              "      height: 32px;\n",
              "      padding: 0 0 0 0;\n",
              "      width: 32px;\n",
              "    }\n",
              "\n",
              "    .colab-df-convert:hover {\n",
              "      background-color: #E2EBFA;\n",
              "      box-shadow: 0px 1px 2px rgba(60, 64, 67, 0.3), 0px 1px 3px 1px rgba(60, 64, 67, 0.15);\n",
              "      fill: #174EA6;\n",
              "    }\n",
              "\n",
              "    [theme=dark] .colab-df-convert {\n",
              "      background-color: #3B4455;\n",
              "      fill: #D2E3FC;\n",
              "    }\n",
              "\n",
              "    [theme=dark] .colab-df-convert:hover {\n",
              "      background-color: #434B5C;\n",
              "      box-shadow: 0px 1px 3px 1px rgba(0, 0, 0, 0.15);\n",
              "      filter: drop-shadow(0px 1px 2px rgba(0, 0, 0, 0.3));\n",
              "      fill: #FFFFFF;\n",
              "    }\n",
              "  </style>\n",
              "\n",
              "      <script>\n",
              "        const buttonEl =\n",
              "          document.querySelector('#df-650e6577-8ca4-47cd-9626-c7c044240b9a button.colab-df-convert');\n",
              "        buttonEl.style.display =\n",
              "          google.colab.kernel.accessAllowed ? 'block' : 'none';\n",
              "\n",
              "        async function convertToInteractive(key) {\n",
              "          const element = document.querySelector('#df-650e6577-8ca4-47cd-9626-c7c044240b9a');\n",
              "          const dataTable =\n",
              "            await google.colab.kernel.invokeFunction('convertToInteractive',\n",
              "                                                     [key], {});\n",
              "          if (!dataTable) return;\n",
              "\n",
              "          const docLinkHtml = 'Like what you see? Visit the ' +\n",
              "            '<a target=\"_blank\" href=https://colab.research.google.com/notebooks/data_table.ipynb>data table notebook</a>'\n",
              "            + ' to learn more about interactive tables.';\n",
              "          element.innerHTML = '';\n",
              "          dataTable['output_type'] = 'display_data';\n",
              "          await google.colab.output.renderOutput(dataTable, element);\n",
              "          const docLink = document.createElement('div');\n",
              "          docLink.innerHTML = docLinkHtml;\n",
              "          element.appendChild(docLink);\n",
              "        }\n",
              "      </script>\n",
              "    </div>\n",
              "  </div>\n",
              "  "
            ]
          },
          "metadata": {},
          "execution_count": 6
        }
      ]
    },
    {
      "cell_type": "code",
      "source": [
        "df.info()"
      ],
      "metadata": {
        "colab": {
          "base_uri": "https://localhost:8080/"
        },
        "id": "IyadnMQTf5Y1",
        "outputId": "9f17b775-99b1-4867-a6eb-910249a7b578"
      },
      "execution_count": null,
      "outputs": [
        {
          "output_type": "stream",
          "name": "stdout",
          "text": [
            "<class 'pandas.core.frame.DataFrame'>\n",
            "RangeIndex: 98910 entries, 0 to 98909\n",
            "Data columns (total 82 columns):\n",
            " #   Column             Non-Null Count  Dtype  \n",
            "---  ------             --------------  -----  \n",
            " 0   Unnamed: 0         98910 non-null  int64  \n",
            " 1   Dst Port           98910 non-null  int64  \n",
            " 2   Protocol           98910 non-null  int64  \n",
            " 3   Timestamp          98910 non-null  object \n",
            " 4   Flow Duration      98910 non-null  int64  \n",
            " 5   Tot Fwd Pkts       98910 non-null  int64  \n",
            " 6   Tot Bwd Pkts       98910 non-null  int64  \n",
            " 7   TotLen Fwd Pkts    98910 non-null  int64  \n",
            " 8   TotLen Bwd Pkts    98910 non-null  float64\n",
            " 9   Fwd Pkt Len Max    98910 non-null  int64  \n",
            " 10  Fwd Pkt Len Min    98910 non-null  int64  \n",
            " 11  Fwd Pkt Len Mean   98910 non-null  float64\n",
            " 12  Fwd Pkt Len Std    98910 non-null  float64\n",
            " 13  Bwd Pkt Len Max    98910 non-null  int64  \n",
            " 14  Bwd Pkt Len Min    98910 non-null  int64  \n",
            " 15  Bwd Pkt Len Mean   98910 non-null  float64\n",
            " 16  Bwd Pkt Len Std    98910 non-null  float64\n",
            " 17  Flow Byts/s        98780 non-null  float64\n",
            " 18  Flow Pkts/s        98910 non-null  float64\n",
            " 19  Flow IAT Mean      98910 non-null  float64\n",
            " 20  Flow IAT Std       98910 non-null  float64\n",
            " 21  Flow IAT Max       98910 non-null  float64\n",
            " 22  Flow IAT Min       98910 non-null  float64\n",
            " 23  Fwd IAT Tot        98910 non-null  float64\n",
            " 24  Fwd IAT Mean       98910 non-null  float64\n",
            " 25  Fwd IAT Std        98910 non-null  float64\n",
            " 26  Fwd IAT Max        98910 non-null  float64\n",
            " 27  Fwd IAT Min        98910 non-null  float64\n",
            " 28  Bwd IAT Tot        98910 non-null  float64\n",
            " 29  Bwd IAT Mean       98910 non-null  float64\n",
            " 30  Bwd IAT Std        98910 non-null  float64\n",
            " 31  Bwd IAT Max        98910 non-null  float64\n",
            " 32  Bwd IAT Min        98910 non-null  float64\n",
            " 33  Fwd PSH Flags      98910 non-null  int64  \n",
            " 34  Bwd PSH Flags      98910 non-null  int64  \n",
            " 35  Fwd URG Flags      98910 non-null  int64  \n",
            " 36  Bwd URG Flags      98910 non-null  int64  \n",
            " 37  Fwd Header Len     98910 non-null  int64  \n",
            " 38  Bwd Header Len     98910 non-null  int64  \n",
            " 39  Fwd Pkts/s         98910 non-null  float64\n",
            " 40  Bwd Pkts/s         98910 non-null  float64\n",
            " 41  Pkt Len Min        98910 non-null  int64  \n",
            " 42  Pkt Len Max        98910 non-null  int64  \n",
            " 43  Pkt Len Mean       98910 non-null  float64\n",
            " 44  Pkt Len Std        98910 non-null  float64\n",
            " 45  Pkt Len Var        98910 non-null  float64\n",
            " 46  FIN Flag Cnt       98910 non-null  int64  \n",
            " 47  SYN Flag Cnt       98910 non-null  int64  \n",
            " 48  RST Flag Cnt       98910 non-null  int64  \n",
            " 49  PSH Flag Cnt       98910 non-null  int64  \n",
            " 50  ACK Flag Cnt       98910 non-null  int64  \n",
            " 51  URG Flag Cnt       98910 non-null  int64  \n",
            " 52  CWE Flag Count     98910 non-null  int64  \n",
            " 53  ECE Flag Cnt       98910 non-null  int64  \n",
            " 54  Down/Up Ratio      98910 non-null  int64  \n",
            " 55  Pkt Size Avg       98910 non-null  float64\n",
            " 56  Fwd Seg Size Avg   98910 non-null  float64\n",
            " 57  Bwd Seg Size Avg   98910 non-null  float64\n",
            " 58  Fwd Byts/b Avg     98910 non-null  int64  \n",
            " 59  Fwd Pkts/b Avg     98910 non-null  int64  \n",
            " 60  Fwd Blk Rate Avg   98910 non-null  int64  \n",
            " 61  Bwd Byts/b Avg     98910 non-null  int64  \n",
            " 62  Bwd Pkts/b Avg     98910 non-null  int64  \n",
            " 63  Bwd Blk Rate Avg   98910 non-null  int64  \n",
            " 64  Subflow Fwd Pkts   98910 non-null  int64  \n",
            " 65  Subflow Fwd Byts   98910 non-null  int64  \n",
            " 66  Subflow Bwd Pkts   98910 non-null  int64  \n",
            " 67  Subflow Bwd Byts   98910 non-null  int64  \n",
            " 68  Init Fwd Win Byts  98910 non-null  int64  \n",
            " 69  Init Bwd Win Byts  98910 non-null  int64  \n",
            " 70  Fwd Act Data Pkts  98910 non-null  int64  \n",
            " 71  Fwd Seg Size Min   98910 non-null  int64  \n",
            " 72  Active Mean        98910 non-null  float64\n",
            " 73  Active Std         98910 non-null  float64\n",
            " 74  Active Max         98910 non-null  float64\n",
            " 75  Active Min         98910 non-null  float64\n",
            " 76  Idle Mean          98910 non-null  float64\n",
            " 77  Idle Std           98910 non-null  float64\n",
            " 78  Idle Max           98910 non-null  float64\n",
            " 79  Idle Min           98910 non-null  float64\n",
            " 80  Unnamed: 0.1       66639 non-null  float64\n",
            " 81  Label              98910 non-null  object \n",
            "dtypes: float64(38), int64(42), object(2)\n",
            "memory usage: 61.9+ MB\n"
          ]
        }
      ]
    },
    {
      "cell_type": "code",
      "source": [
        "df.isna()"
      ],
      "metadata": {
        "colab": {
          "base_uri": "https://localhost:8080/",
          "height": 520
        },
        "id": "XhFFzTxmgYyY",
        "outputId": "cbfd2a09-da2e-46d9-9fcd-63b6ca267277"
      },
      "execution_count": null,
      "outputs": [
        {
          "output_type": "execute_result",
          "data": {
            "text/plain": [
              "       Unnamed: 0  Dst Port  Protocol  Timestamp  Flow Duration  Tot Fwd Pkts  \\\n",
              "0           False     False     False      False          False         False   \n",
              "1           False     False     False      False          False         False   \n",
              "2           False     False     False      False          False         False   \n",
              "3           False     False     False      False          False         False   \n",
              "4           False     False     False      False          False         False   \n",
              "...           ...       ...       ...        ...            ...           ...   \n",
              "98905       False     False     False      False          False         False   \n",
              "98906       False     False     False      False          False         False   \n",
              "98907       False     False     False      False          False         False   \n",
              "98908       False     False     False      False          False         False   \n",
              "98909       False     False     False      False          False         False   \n",
              "\n",
              "       Tot Bwd Pkts  TotLen Fwd Pkts  TotLen Bwd Pkts  Fwd Pkt Len Max  ...  \\\n",
              "0             False            False            False            False  ...   \n",
              "1             False            False            False            False  ...   \n",
              "2             False            False            False            False  ...   \n",
              "3             False            False            False            False  ...   \n",
              "4             False            False            False            False  ...   \n",
              "...             ...              ...              ...              ...  ...   \n",
              "98905         False            False            False            False  ...   \n",
              "98906         False            False            False            False  ...   \n",
              "98907         False            False            False            False  ...   \n",
              "98908         False            False            False            False  ...   \n",
              "98909         False            False            False            False  ...   \n",
              "\n",
              "       Active Mean  Active Std  Active Max  Active Min  Idle Mean  Idle Std  \\\n",
              "0            False       False       False       False      False     False   \n",
              "1            False       False       False       False      False     False   \n",
              "2            False       False       False       False      False     False   \n",
              "3            False       False       False       False      False     False   \n",
              "4            False       False       False       False      False     False   \n",
              "...            ...         ...         ...         ...        ...       ...   \n",
              "98905        False       False       False       False      False     False   \n",
              "98906        False       False       False       False      False     False   \n",
              "98907        False       False       False       False      False     False   \n",
              "98908        False       False       False       False      False     False   \n",
              "98909        False       False       False       False      False     False   \n",
              "\n",
              "       Idle Max  Idle Min  Unnamed: 0.1  Label  \n",
              "0         False     False          True  False  \n",
              "1         False     False          True  False  \n",
              "2         False     False          True  False  \n",
              "3         False     False          True  False  \n",
              "4         False     False          True  False  \n",
              "...         ...       ...           ...    ...  \n",
              "98905     False     False         False  False  \n",
              "98906     False     False         False  False  \n",
              "98907     False     False         False  False  \n",
              "98908     False     False         False  False  \n",
              "98909     False     False         False  False  \n",
              "\n",
              "[98910 rows x 82 columns]"
            ],
            "text/html": [
              "\n",
              "  <div id=\"df-4f09446e-e68d-489a-ae6b-314e290869b3\">\n",
              "    <div class=\"colab-df-container\">\n",
              "      <div>\n",
              "<style scoped>\n",
              "    .dataframe tbody tr th:only-of-type {\n",
              "        vertical-align: middle;\n",
              "    }\n",
              "\n",
              "    .dataframe tbody tr th {\n",
              "        vertical-align: top;\n",
              "    }\n",
              "\n",
              "    .dataframe thead th {\n",
              "        text-align: right;\n",
              "    }\n",
              "</style>\n",
              "<table border=\"1\" class=\"dataframe\">\n",
              "  <thead>\n",
              "    <tr style=\"text-align: right;\">\n",
              "      <th></th>\n",
              "      <th>Unnamed: 0</th>\n",
              "      <th>Dst Port</th>\n",
              "      <th>Protocol</th>\n",
              "      <th>Timestamp</th>\n",
              "      <th>Flow Duration</th>\n",
              "      <th>Tot Fwd Pkts</th>\n",
              "      <th>Tot Bwd Pkts</th>\n",
              "      <th>TotLen Fwd Pkts</th>\n",
              "      <th>TotLen Bwd Pkts</th>\n",
              "      <th>Fwd Pkt Len Max</th>\n",
              "      <th>...</th>\n",
              "      <th>Active Mean</th>\n",
              "      <th>Active Std</th>\n",
              "      <th>Active Max</th>\n",
              "      <th>Active Min</th>\n",
              "      <th>Idle Mean</th>\n",
              "      <th>Idle Std</th>\n",
              "      <th>Idle Max</th>\n",
              "      <th>Idle Min</th>\n",
              "      <th>Unnamed: 0.1</th>\n",
              "      <th>Label</th>\n",
              "    </tr>\n",
              "  </thead>\n",
              "  <tbody>\n",
              "    <tr>\n",
              "      <th>0</th>\n",
              "      <td>False</td>\n",
              "      <td>False</td>\n",
              "      <td>False</td>\n",
              "      <td>False</td>\n",
              "      <td>False</td>\n",
              "      <td>False</td>\n",
              "      <td>False</td>\n",
              "      <td>False</td>\n",
              "      <td>False</td>\n",
              "      <td>False</td>\n",
              "      <td>...</td>\n",
              "      <td>False</td>\n",
              "      <td>False</td>\n",
              "      <td>False</td>\n",
              "      <td>False</td>\n",
              "      <td>False</td>\n",
              "      <td>False</td>\n",
              "      <td>False</td>\n",
              "      <td>False</td>\n",
              "      <td>True</td>\n",
              "      <td>False</td>\n",
              "    </tr>\n",
              "    <tr>\n",
              "      <th>1</th>\n",
              "      <td>False</td>\n",
              "      <td>False</td>\n",
              "      <td>False</td>\n",
              "      <td>False</td>\n",
              "      <td>False</td>\n",
              "      <td>False</td>\n",
              "      <td>False</td>\n",
              "      <td>False</td>\n",
              "      <td>False</td>\n",
              "      <td>False</td>\n",
              "      <td>...</td>\n",
              "      <td>False</td>\n",
              "      <td>False</td>\n",
              "      <td>False</td>\n",
              "      <td>False</td>\n",
              "      <td>False</td>\n",
              "      <td>False</td>\n",
              "      <td>False</td>\n",
              "      <td>False</td>\n",
              "      <td>True</td>\n",
              "      <td>False</td>\n",
              "    </tr>\n",
              "    <tr>\n",
              "      <th>2</th>\n",
              "      <td>False</td>\n",
              "      <td>False</td>\n",
              "      <td>False</td>\n",
              "      <td>False</td>\n",
              "      <td>False</td>\n",
              "      <td>False</td>\n",
              "      <td>False</td>\n",
              "      <td>False</td>\n",
              "      <td>False</td>\n",
              "      <td>False</td>\n",
              "      <td>...</td>\n",
              "      <td>False</td>\n",
              "      <td>False</td>\n",
              "      <td>False</td>\n",
              "      <td>False</td>\n",
              "      <td>False</td>\n",
              "      <td>False</td>\n",
              "      <td>False</td>\n",
              "      <td>False</td>\n",
              "      <td>True</td>\n",
              "      <td>False</td>\n",
              "    </tr>\n",
              "    <tr>\n",
              "      <th>3</th>\n",
              "      <td>False</td>\n",
              "      <td>False</td>\n",
              "      <td>False</td>\n",
              "      <td>False</td>\n",
              "      <td>False</td>\n",
              "      <td>False</td>\n",
              "      <td>False</td>\n",
              "      <td>False</td>\n",
              "      <td>False</td>\n",
              "      <td>False</td>\n",
              "      <td>...</td>\n",
              "      <td>False</td>\n",
              "      <td>False</td>\n",
              "      <td>False</td>\n",
              "      <td>False</td>\n",
              "      <td>False</td>\n",
              "      <td>False</td>\n",
              "      <td>False</td>\n",
              "      <td>False</td>\n",
              "      <td>True</td>\n",
              "      <td>False</td>\n",
              "    </tr>\n",
              "    <tr>\n",
              "      <th>4</th>\n",
              "      <td>False</td>\n",
              "      <td>False</td>\n",
              "      <td>False</td>\n",
              "      <td>False</td>\n",
              "      <td>False</td>\n",
              "      <td>False</td>\n",
              "      <td>False</td>\n",
              "      <td>False</td>\n",
              "      <td>False</td>\n",
              "      <td>False</td>\n",
              "      <td>...</td>\n",
              "      <td>False</td>\n",
              "      <td>False</td>\n",
              "      <td>False</td>\n",
              "      <td>False</td>\n",
              "      <td>False</td>\n",
              "      <td>False</td>\n",
              "      <td>False</td>\n",
              "      <td>False</td>\n",
              "      <td>True</td>\n",
              "      <td>False</td>\n",
              "    </tr>\n",
              "    <tr>\n",
              "      <th>...</th>\n",
              "      <td>...</td>\n",
              "      <td>...</td>\n",
              "      <td>...</td>\n",
              "      <td>...</td>\n",
              "      <td>...</td>\n",
              "      <td>...</td>\n",
              "      <td>...</td>\n",
              "      <td>...</td>\n",
              "      <td>...</td>\n",
              "      <td>...</td>\n",
              "      <td>...</td>\n",
              "      <td>...</td>\n",
              "      <td>...</td>\n",
              "      <td>...</td>\n",
              "      <td>...</td>\n",
              "      <td>...</td>\n",
              "      <td>...</td>\n",
              "      <td>...</td>\n",
              "      <td>...</td>\n",
              "      <td>...</td>\n",
              "      <td>...</td>\n",
              "    </tr>\n",
              "    <tr>\n",
              "      <th>98905</th>\n",
              "      <td>False</td>\n",
              "      <td>False</td>\n",
              "      <td>False</td>\n",
              "      <td>False</td>\n",
              "      <td>False</td>\n",
              "      <td>False</td>\n",
              "      <td>False</td>\n",
              "      <td>False</td>\n",
              "      <td>False</td>\n",
              "      <td>False</td>\n",
              "      <td>...</td>\n",
              "      <td>False</td>\n",
              "      <td>False</td>\n",
              "      <td>False</td>\n",
              "      <td>False</td>\n",
              "      <td>False</td>\n",
              "      <td>False</td>\n",
              "      <td>False</td>\n",
              "      <td>False</td>\n",
              "      <td>False</td>\n",
              "      <td>False</td>\n",
              "    </tr>\n",
              "    <tr>\n",
              "      <th>98906</th>\n",
              "      <td>False</td>\n",
              "      <td>False</td>\n",
              "      <td>False</td>\n",
              "      <td>False</td>\n",
              "      <td>False</td>\n",
              "      <td>False</td>\n",
              "      <td>False</td>\n",
              "      <td>False</td>\n",
              "      <td>False</td>\n",
              "      <td>False</td>\n",
              "      <td>...</td>\n",
              "      <td>False</td>\n",
              "      <td>False</td>\n",
              "      <td>False</td>\n",
              "      <td>False</td>\n",
              "      <td>False</td>\n",
              "      <td>False</td>\n",
              "      <td>False</td>\n",
              "      <td>False</td>\n",
              "      <td>False</td>\n",
              "      <td>False</td>\n",
              "    </tr>\n",
              "    <tr>\n",
              "      <th>98907</th>\n",
              "      <td>False</td>\n",
              "      <td>False</td>\n",
              "      <td>False</td>\n",
              "      <td>False</td>\n",
              "      <td>False</td>\n",
              "      <td>False</td>\n",
              "      <td>False</td>\n",
              "      <td>False</td>\n",
              "      <td>False</td>\n",
              "      <td>False</td>\n",
              "      <td>...</td>\n",
              "      <td>False</td>\n",
              "      <td>False</td>\n",
              "      <td>False</td>\n",
              "      <td>False</td>\n",
              "      <td>False</td>\n",
              "      <td>False</td>\n",
              "      <td>False</td>\n",
              "      <td>False</td>\n",
              "      <td>False</td>\n",
              "      <td>False</td>\n",
              "    </tr>\n",
              "    <tr>\n",
              "      <th>98908</th>\n",
              "      <td>False</td>\n",
              "      <td>False</td>\n",
              "      <td>False</td>\n",
              "      <td>False</td>\n",
              "      <td>False</td>\n",
              "      <td>False</td>\n",
              "      <td>False</td>\n",
              "      <td>False</td>\n",
              "      <td>False</td>\n",
              "      <td>False</td>\n",
              "      <td>...</td>\n",
              "      <td>False</td>\n",
              "      <td>False</td>\n",
              "      <td>False</td>\n",
              "      <td>False</td>\n",
              "      <td>False</td>\n",
              "      <td>False</td>\n",
              "      <td>False</td>\n",
              "      <td>False</td>\n",
              "      <td>False</td>\n",
              "      <td>False</td>\n",
              "    </tr>\n",
              "    <tr>\n",
              "      <th>98909</th>\n",
              "      <td>False</td>\n",
              "      <td>False</td>\n",
              "      <td>False</td>\n",
              "      <td>False</td>\n",
              "      <td>False</td>\n",
              "      <td>False</td>\n",
              "      <td>False</td>\n",
              "      <td>False</td>\n",
              "      <td>False</td>\n",
              "      <td>False</td>\n",
              "      <td>...</td>\n",
              "      <td>False</td>\n",
              "      <td>False</td>\n",
              "      <td>False</td>\n",
              "      <td>False</td>\n",
              "      <td>False</td>\n",
              "      <td>False</td>\n",
              "      <td>False</td>\n",
              "      <td>False</td>\n",
              "      <td>False</td>\n",
              "      <td>False</td>\n",
              "    </tr>\n",
              "  </tbody>\n",
              "</table>\n",
              "<p>98910 rows × 82 columns</p>\n",
              "</div>\n",
              "      <button class=\"colab-df-convert\" onclick=\"convertToInteractive('df-4f09446e-e68d-489a-ae6b-314e290869b3')\"\n",
              "              title=\"Convert this dataframe to an interactive table.\"\n",
              "              style=\"display:none;\">\n",
              "        \n",
              "  <svg xmlns=\"http://www.w3.org/2000/svg\" height=\"24px\"viewBox=\"0 0 24 24\"\n",
              "       width=\"24px\">\n",
              "    <path d=\"M0 0h24v24H0V0z\" fill=\"none\"/>\n",
              "    <path d=\"M18.56 5.44l.94 2.06.94-2.06 2.06-.94-2.06-.94-.94-2.06-.94 2.06-2.06.94zm-11 1L8.5 8.5l.94-2.06 2.06-.94-2.06-.94L8.5 2.5l-.94 2.06-2.06.94zm10 10l.94 2.06.94-2.06 2.06-.94-2.06-.94-.94-2.06-.94 2.06-2.06.94z\"/><path d=\"M17.41 7.96l-1.37-1.37c-.4-.4-.92-.59-1.43-.59-.52 0-1.04.2-1.43.59L10.3 9.45l-7.72 7.72c-.78.78-.78 2.05 0 2.83L4 21.41c.39.39.9.59 1.41.59.51 0 1.02-.2 1.41-.59l7.78-7.78 2.81-2.81c.8-.78.8-2.07 0-2.86zM5.41 20L4 18.59l7.72-7.72 1.47 1.35L5.41 20z\"/>\n",
              "  </svg>\n",
              "      </button>\n",
              "      \n",
              "  <style>\n",
              "    .colab-df-container {\n",
              "      display:flex;\n",
              "      flex-wrap:wrap;\n",
              "      gap: 12px;\n",
              "    }\n",
              "\n",
              "    .colab-df-convert {\n",
              "      background-color: #E8F0FE;\n",
              "      border: none;\n",
              "      border-radius: 50%;\n",
              "      cursor: pointer;\n",
              "      display: none;\n",
              "      fill: #1967D2;\n",
              "      height: 32px;\n",
              "      padding: 0 0 0 0;\n",
              "      width: 32px;\n",
              "    }\n",
              "\n",
              "    .colab-df-convert:hover {\n",
              "      background-color: #E2EBFA;\n",
              "      box-shadow: 0px 1px 2px rgba(60, 64, 67, 0.3), 0px 1px 3px 1px rgba(60, 64, 67, 0.15);\n",
              "      fill: #174EA6;\n",
              "    }\n",
              "\n",
              "    [theme=dark] .colab-df-convert {\n",
              "      background-color: #3B4455;\n",
              "      fill: #D2E3FC;\n",
              "    }\n",
              "\n",
              "    [theme=dark] .colab-df-convert:hover {\n",
              "      background-color: #434B5C;\n",
              "      box-shadow: 0px 1px 3px 1px rgba(0, 0, 0, 0.15);\n",
              "      filter: drop-shadow(0px 1px 2px rgba(0, 0, 0, 0.3));\n",
              "      fill: #FFFFFF;\n",
              "    }\n",
              "  </style>\n",
              "\n",
              "      <script>\n",
              "        const buttonEl =\n",
              "          document.querySelector('#df-4f09446e-e68d-489a-ae6b-314e290869b3 button.colab-df-convert');\n",
              "        buttonEl.style.display =\n",
              "          google.colab.kernel.accessAllowed ? 'block' : 'none';\n",
              "\n",
              "        async function convertToInteractive(key) {\n",
              "          const element = document.querySelector('#df-4f09446e-e68d-489a-ae6b-314e290869b3');\n",
              "          const dataTable =\n",
              "            await google.colab.kernel.invokeFunction('convertToInteractive',\n",
              "                                                     [key], {});\n",
              "          if (!dataTable) return;\n",
              "\n",
              "          const docLinkHtml = 'Like what you see? Visit the ' +\n",
              "            '<a target=\"_blank\" href=https://colab.research.google.com/notebooks/data_table.ipynb>data table notebook</a>'\n",
              "            + ' to learn more about interactive tables.';\n",
              "          element.innerHTML = '';\n",
              "          dataTable['output_type'] = 'display_data';\n",
              "          await google.colab.output.renderOutput(dataTable, element);\n",
              "          const docLink = document.createElement('div');\n",
              "          docLink.innerHTML = docLinkHtml;\n",
              "          element.appendChild(docLink);\n",
              "        }\n",
              "      </script>\n",
              "    </div>\n",
              "  </div>\n",
              "  "
            ]
          },
          "metadata": {},
          "execution_count": 8
        }
      ]
    }
  ],
  "metadata": {
    "colab": {
      "provenance": []
    },
    "kernelspec": {
      "display_name": "Python 3",
      "name": "python3"
    },
    "language_info": {
      "name": "python"
    }
  },
  "nbformat": 4,
  "nbformat_minor": 0
}